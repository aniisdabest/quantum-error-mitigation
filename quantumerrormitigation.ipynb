{
 "cells": [
  {
   "cell_type": "code",
   "execution_count": 3,
   "id": "fa631d64-9521-4079-bb95-e680e9ffa113",
   "metadata": {},
   "outputs": [],
   "source": [
    "!pip install qiskit mitiq matplotlib --quiet\n",
    "\n"
   ]
  },
  {
   "cell_type": "code",
   "execution_count": 4,
   "id": "db60e384-923f-4d78-bc00-2f66995707ad",
   "metadata": {},
   "outputs": [
    {
     "ename": "ImportError",
     "evalue": "cannot import name 'Aer' from 'qiskit' (C:\\Users\\anvit\\myenv\\Lib\\site-packages\\qiskit\\__init__.py)",
     "output_type": "error",
     "traceback": [
      "\u001b[31m---------------------------------------------------------------------------\u001b[39m",
      "\u001b[31mImportError\u001b[39m                               Traceback (most recent call last)",
      "\u001b[36mCell\u001b[39m\u001b[36m \u001b[39m\u001b[32mIn[4]\u001b[39m\u001b[32m, line 1\u001b[39m\n\u001b[32m----> \u001b[39m\u001b[32m1\u001b[39m \u001b[38;5;28;01mfrom\u001b[39;00m\u001b[38;5;250m \u001b[39m\u001b[34;01mqiskit\u001b[39;00m\u001b[38;5;250m \u001b[39m\u001b[38;5;28;01mimport\u001b[39;00m QuantumCircuit, Aer, execute\n\u001b[32m      2\u001b[39m \u001b[38;5;28;01mfrom\u001b[39;00m\u001b[38;5;250m \u001b[39m\u001b[34;01mqiskit\u001b[39;00m\u001b[34;01m.\u001b[39;00m\u001b[34;01mproviders\u001b[39;00m\u001b[34;01m.\u001b[39;00m\u001b[34;01maer\u001b[39;00m\u001b[34;01m.\u001b[39;00m\u001b[34;01mnoise\u001b[39;00m\u001b[38;5;250m \u001b[39m\u001b[38;5;28;01mimport\u001b[39;00m NoiseModel, depolarizing_error\n\u001b[32m      3\u001b[39m \u001b[38;5;28;01mfrom\u001b[39;00m\u001b[38;5;250m \u001b[39m\u001b[34;01mmitiq\u001b[39;00m\u001b[38;5;250m \u001b[39m\u001b[38;5;28;01mimport\u001b[39;00m zne\n",
      "\u001b[31mImportError\u001b[39m: cannot import name 'Aer' from 'qiskit' (C:\\Users\\anvit\\myenv\\Lib\\site-packages\\qiskit\\__init__.py)"
     ]
    }
   ],
   "source": [
    "from qiskit import QuantumCircuit, Aer, execute\n",
    "from qiskit.providers.aer.noise import NoiseModel, depolarizing_error\n",
    "from mitiq import zne\n",
    "import matplotlib.pyplot as plt\n",
    "\n"
   ]
  },
  {
   "cell_type": "code",
   "execution_count": 5,
   "id": "ff6042c0-bc10-482c-9632-a238a84481d6",
   "metadata": {},
   "outputs": [],
   "source": [
    "!pip install qiskit-aer --quiet\n",
    "\n"
   ]
  },
  {
   "cell_type": "code",
   "execution_count": 6,
   "id": "faa44efa-3136-49d7-b8f4-96c74f25e5fe",
   "metadata": {},
   "outputs": [
    {
     "ename": "ImportError",
     "evalue": "cannot import name 'execute' from 'qiskit' (C:\\Users\\anvit\\myenv\\Lib\\site-packages\\qiskit\\__init__.py)",
     "output_type": "error",
     "traceback": [
      "\u001b[31m---------------------------------------------------------------------------\u001b[39m",
      "\u001b[31mImportError\u001b[39m                               Traceback (most recent call last)",
      "\u001b[36mCell\u001b[39m\u001b[36m \u001b[39m\u001b[32mIn[6]\u001b[39m\u001b[32m, line 1\u001b[39m\n\u001b[32m----> \u001b[39m\u001b[32m1\u001b[39m \u001b[38;5;28;01mfrom\u001b[39;00m\u001b[38;5;250m \u001b[39m\u001b[34;01mqiskit\u001b[39;00m\u001b[38;5;250m \u001b[39m\u001b[38;5;28;01mimport\u001b[39;00m QuantumCircuit, execute\n\u001b[32m      2\u001b[39m \u001b[38;5;28;01mfrom\u001b[39;00m\u001b[38;5;250m \u001b[39m\u001b[34;01mqiskit_aer\u001b[39;00m\u001b[38;5;250m \u001b[39m\u001b[38;5;28;01mimport\u001b[39;00m Aer\n\u001b[32m      3\u001b[39m \u001b[38;5;28;01mfrom\u001b[39;00m\u001b[38;5;250m \u001b[39m\u001b[34;01mqiskit\u001b[39;00m\u001b[34;01m.\u001b[39;00m\u001b[34;01mproviders\u001b[39;00m\u001b[34;01m.\u001b[39;00m\u001b[34;01maer\u001b[39;00m\u001b[34;01m.\u001b[39;00m\u001b[34;01mnoise\u001b[39;00m\u001b[38;5;250m \u001b[39m\u001b[38;5;28;01mimport\u001b[39;00m NoiseModel, depolarizing_error\n",
      "\u001b[31mImportError\u001b[39m: cannot import name 'execute' from 'qiskit' (C:\\Users\\anvit\\myenv\\Lib\\site-packages\\qiskit\\__init__.py)"
     ]
    }
   ],
   "source": [
    "from qiskit import QuantumCircuit, execute\n",
    "from qiskit_aer import Aer\n",
    "from qiskit.providers.aer.noise import NoiseModel, depolarizing_error\n",
    "from mitiq import zne\n",
    "import matplotlib.pyplot as plt\n"
   ]
  },
  {
   "cell_type": "code",
   "execution_count": 7,
   "id": "980ba62c-da2b-484f-aeb0-b51d8f4bcbad",
   "metadata": {},
   "outputs": [
    {
     "ename": "ModuleNotFoundError",
     "evalue": "No module named 'qiskit.providers.aer'",
     "output_type": "error",
     "traceback": [
      "\u001b[31m---------------------------------------------------------------------------\u001b[39m",
      "\u001b[31mModuleNotFoundError\u001b[39m                       Traceback (most recent call last)",
      "\u001b[36mCell\u001b[39m\u001b[36m \u001b[39m\u001b[32mIn[7]\u001b[39m\u001b[32m, line 3\u001b[39m\n\u001b[32m      1\u001b[39m \u001b[38;5;28;01mfrom\u001b[39;00m\u001b[38;5;250m \u001b[39m\u001b[34;01mqiskit\u001b[39;00m\u001b[38;5;250m \u001b[39m\u001b[38;5;28;01mimport\u001b[39;00m QuantumCircuit, transpile\n\u001b[32m      2\u001b[39m \u001b[38;5;28;01mfrom\u001b[39;00m\u001b[38;5;250m \u001b[39m\u001b[34;01mqiskit_aer\u001b[39;00m\u001b[38;5;250m \u001b[39m\u001b[38;5;28;01mimport\u001b[39;00m Aer\n\u001b[32m----> \u001b[39m\u001b[32m3\u001b[39m \u001b[38;5;28;01mfrom\u001b[39;00m\u001b[38;5;250m \u001b[39m\u001b[34;01mqiskit\u001b[39;00m\u001b[34;01m.\u001b[39;00m\u001b[34;01mproviders\u001b[39;00m\u001b[34;01m.\u001b[39;00m\u001b[34;01maer\u001b[39;00m\u001b[34;01m.\u001b[39;00m\u001b[34;01mnoise\u001b[39;00m\u001b[38;5;250m \u001b[39m\u001b[38;5;28;01mimport\u001b[39;00m NoiseModel, depolarizing_error\n\u001b[32m      4\u001b[39m \u001b[38;5;28;01mfrom\u001b[39;00m\u001b[38;5;250m \u001b[39m\u001b[34;01mmitiq\u001b[39;00m\u001b[38;5;250m \u001b[39m\u001b[38;5;28;01mimport\u001b[39;00m zne\n\u001b[32m      5\u001b[39m \u001b[38;5;28;01mimport\u001b[39;00m\u001b[38;5;250m \u001b[39m\u001b[34;01mmatplotlib\u001b[39;00m\u001b[34;01m.\u001b[39;00m\u001b[34;01mpyplot\u001b[39;00m\u001b[38;5;250m \u001b[39m\u001b[38;5;28;01mas\u001b[39;00m\u001b[38;5;250m \u001b[39m\u001b[34;01mplt\u001b[39;00m\n",
      "\u001b[31mModuleNotFoundError\u001b[39m: No module named 'qiskit.providers.aer'"
     ]
    }
   ],
   "source": [
    "from qiskit import QuantumCircuit, transpile\n",
    "from qiskit_aer import Aer\n",
    "from qiskit.providers.aer.noise import NoiseModel, depolarizing_error\n",
    "from mitiq import zne\n",
    "import matplotlib.pyplot as plt\n"
   ]
  },
  {
   "cell_type": "code",
   "execution_count": 8,
   "id": "ae5aa2c2-9ed9-406a-9779-71b34eaa9ed2",
   "metadata": {},
   "outputs": [],
   "source": [
    "from qiskit_aer.noise import NoiseModel, depolarizing_error\n",
    "from qiskit import QuantumCircuit, transpile\n",
    "from qiskit_aer import Aer\n",
    "import matplotlib.pyplot as plt\n",
    "from mitiq import zne\n"
   ]
  },
  {
   "cell_type": "code",
   "execution_count": 9,
   "id": "d157080a-8c43-4a84-9be2-0196636757a6",
   "metadata": {},
   "outputs": [
    {
     "ename": "MissingOptionalLibraryError",
     "evalue": "\"The 'pylatexenc' library is required to use 'MatplotlibDrawer'. You can install it with 'pip install pylatexenc'.\"",
     "output_type": "error",
     "traceback": [
      "\u001b[31m---------------------------------------------------------------------------\u001b[39m",
      "\u001b[31mMissingOptionalLibraryError\u001b[39m               Traceback (most recent call last)",
      "\u001b[36mCell\u001b[39m\u001b[36m \u001b[39m\u001b[32mIn[9]\u001b[39m\u001b[32m, line 6\u001b[39m\n\u001b[32m      4\u001b[39m qc.h(\u001b[32m0\u001b[39m)          \u001b[38;5;66;03m# Give her that Hadamard glow-up\u001b[39;00m\n\u001b[32m      5\u001b[39m qc.measure(\u001b[32m0\u001b[39m, \u001b[32m0\u001b[39m) \u001b[38;5;66;03m# Don't forget to clock the look!\u001b[39;00m\n\u001b[32m----> \u001b[39m\u001b[32m6\u001b[39m \u001b[43mqc\u001b[49m\u001b[43m.\u001b[49m\u001b[43mdraw\u001b[49m\u001b[43m(\u001b[49m\u001b[33;43m'\u001b[39;49m\u001b[33;43mmpl\u001b[39;49m\u001b[33;43m'\u001b[39;49m\u001b[43m)\u001b[49m\n",
      "\u001b[36mFile \u001b[39m\u001b[32m~\\myenv\\Lib\\site-packages\\qiskit\\circuit\\quantumcircuit.py:3551\u001b[39m, in \u001b[36mQuantumCircuit.draw\u001b[39m\u001b[34m(self, output, scale, filename, style, interactive, plot_barriers, reverse_bits, justify, vertical_compression, idle_wires, with_layout, fold, ax, initial_state, cregbundle, wire_order, expr_len)\u001b[39m\n\u001b[32m   3548\u001b[39m \u001b[38;5;66;03m# pylint: disable=cyclic-import\u001b[39;00m\n\u001b[32m   3549\u001b[39m \u001b[38;5;28;01mfrom\u001b[39;00m\u001b[38;5;250m \u001b[39m\u001b[34;01mqiskit\u001b[39;00m\u001b[34;01m.\u001b[39;00m\u001b[34;01mvisualization\u001b[39;00m\u001b[38;5;250m \u001b[39m\u001b[38;5;28;01mimport\u001b[39;00m circuit_drawer\n\u001b[32m-> \u001b[39m\u001b[32m3551\u001b[39m \u001b[38;5;28;01mreturn\u001b[39;00m \u001b[43mcircuit_drawer\u001b[49m\u001b[43m(\u001b[49m\n\u001b[32m   3552\u001b[39m \u001b[43m    \u001b[49m\u001b[38;5;28;43mself\u001b[39;49m\u001b[43m,\u001b[49m\n\u001b[32m   3553\u001b[39m \u001b[43m    \u001b[49m\u001b[43mscale\u001b[49m\u001b[43m=\u001b[49m\u001b[43mscale\u001b[49m\u001b[43m,\u001b[49m\n\u001b[32m   3554\u001b[39m \u001b[43m    \u001b[49m\u001b[43mfilename\u001b[49m\u001b[43m=\u001b[49m\u001b[43mfilename\u001b[49m\u001b[43m,\u001b[49m\n\u001b[32m   3555\u001b[39m \u001b[43m    \u001b[49m\u001b[43mstyle\u001b[49m\u001b[43m=\u001b[49m\u001b[43mstyle\u001b[49m\u001b[43m,\u001b[49m\n\u001b[32m   3556\u001b[39m \u001b[43m    \u001b[49m\u001b[43moutput\u001b[49m\u001b[43m=\u001b[49m\u001b[43moutput\u001b[49m\u001b[43m,\u001b[49m\n\u001b[32m   3557\u001b[39m \u001b[43m    \u001b[49m\u001b[43minteractive\u001b[49m\u001b[43m=\u001b[49m\u001b[43minteractive\u001b[49m\u001b[43m,\u001b[49m\n\u001b[32m   3558\u001b[39m \u001b[43m    \u001b[49m\u001b[43mplot_barriers\u001b[49m\u001b[43m=\u001b[49m\u001b[43mplot_barriers\u001b[49m\u001b[43m,\u001b[49m\n\u001b[32m   3559\u001b[39m \u001b[43m    \u001b[49m\u001b[43mreverse_bits\u001b[49m\u001b[43m=\u001b[49m\u001b[43mreverse_bits\u001b[49m\u001b[43m,\u001b[49m\n\u001b[32m   3560\u001b[39m \u001b[43m    \u001b[49m\u001b[43mjustify\u001b[49m\u001b[43m=\u001b[49m\u001b[43mjustify\u001b[49m\u001b[43m,\u001b[49m\n\u001b[32m   3561\u001b[39m \u001b[43m    \u001b[49m\u001b[43mvertical_compression\u001b[49m\u001b[43m=\u001b[49m\u001b[43mvertical_compression\u001b[49m\u001b[43m,\u001b[49m\n\u001b[32m   3562\u001b[39m \u001b[43m    \u001b[49m\u001b[43midle_wires\u001b[49m\u001b[43m=\u001b[49m\u001b[43midle_wires\u001b[49m\u001b[43m,\u001b[49m\n\u001b[32m   3563\u001b[39m \u001b[43m    \u001b[49m\u001b[43mwith_layout\u001b[49m\u001b[43m=\u001b[49m\u001b[43mwith_layout\u001b[49m\u001b[43m,\u001b[49m\n\u001b[32m   3564\u001b[39m \u001b[43m    \u001b[49m\u001b[43mfold\u001b[49m\u001b[43m=\u001b[49m\u001b[43mfold\u001b[49m\u001b[43m,\u001b[49m\n\u001b[32m   3565\u001b[39m \u001b[43m    \u001b[49m\u001b[43max\u001b[49m\u001b[43m=\u001b[49m\u001b[43max\u001b[49m\u001b[43m,\u001b[49m\n\u001b[32m   3566\u001b[39m \u001b[43m    \u001b[49m\u001b[43minitial_state\u001b[49m\u001b[43m=\u001b[49m\u001b[43minitial_state\u001b[49m\u001b[43m,\u001b[49m\n\u001b[32m   3567\u001b[39m \u001b[43m    \u001b[49m\u001b[43mcregbundle\u001b[49m\u001b[43m=\u001b[49m\u001b[43mcregbundle\u001b[49m\u001b[43m,\u001b[49m\n\u001b[32m   3568\u001b[39m \u001b[43m    \u001b[49m\u001b[43mwire_order\u001b[49m\u001b[43m=\u001b[49m\u001b[43mwire_order\u001b[49m\u001b[43m,\u001b[49m\n\u001b[32m   3569\u001b[39m \u001b[43m    \u001b[49m\u001b[43mexpr_len\u001b[49m\u001b[43m=\u001b[49m\u001b[43mexpr_len\u001b[49m\u001b[43m,\u001b[49m\n\u001b[32m   3570\u001b[39m \u001b[43m\u001b[49m\u001b[43m)\u001b[49m\n",
      "\u001b[36mFile \u001b[39m\u001b[32m~\\myenv\\Lib\\site-packages\\qiskit\\visualization\\circuit\\circuit_visualization.py:339\u001b[39m, in \u001b[36mcircuit_drawer\u001b[39m\u001b[34m(circuit, scale, filename, style, output, interactive, plot_barriers, reverse_bits, justify, vertical_compression, idle_wires, with_layout, fold, ax, initial_state, cregbundle, wire_order, expr_len)\u001b[39m\n\u001b[32m    324\u001b[39m     \u001b[38;5;28;01mreturn\u001b[39;00m _generate_latex_source(\n\u001b[32m    325\u001b[39m         circuit,\n\u001b[32m    326\u001b[39m         filename=filename,\n\u001b[32m   (...)\u001b[39m\u001b[32m    336\u001b[39m         wire_order=complete_wire_order,\n\u001b[32m    337\u001b[39m     )\n\u001b[32m    338\u001b[39m \u001b[38;5;28;01melif\u001b[39;00m output == \u001b[33m\"\u001b[39m\u001b[33mmpl\u001b[39m\u001b[33m\"\u001b[39m:\n\u001b[32m--> \u001b[39m\u001b[32m339\u001b[39m     image = \u001b[43m_matplotlib_circuit_drawer\u001b[49m\u001b[43m(\u001b[49m\n\u001b[32m    340\u001b[39m \u001b[43m        \u001b[49m\u001b[43mcircuit\u001b[49m\u001b[43m,\u001b[49m\n\u001b[32m    341\u001b[39m \u001b[43m        \u001b[49m\u001b[43mscale\u001b[49m\u001b[43m=\u001b[49m\u001b[43mscale\u001b[49m\u001b[43m,\u001b[49m\n\u001b[32m    342\u001b[39m \u001b[43m        \u001b[49m\u001b[43mfilename\u001b[49m\u001b[43m=\u001b[49m\u001b[43mfilename\u001b[49m\u001b[43m,\u001b[49m\n\u001b[32m    343\u001b[39m \u001b[43m        \u001b[49m\u001b[43mstyle\u001b[49m\u001b[43m=\u001b[49m\u001b[43mstyle\u001b[49m\u001b[43m,\u001b[49m\n\u001b[32m    344\u001b[39m \u001b[43m        \u001b[49m\u001b[43mplot_barriers\u001b[49m\u001b[43m=\u001b[49m\u001b[43mplot_barriers\u001b[49m\u001b[43m,\u001b[49m\n\u001b[32m    345\u001b[39m \u001b[43m        \u001b[49m\u001b[43mreverse_bits\u001b[49m\u001b[43m=\u001b[49m\u001b[43mreverse_bits\u001b[49m\u001b[43m,\u001b[49m\n\u001b[32m    346\u001b[39m \u001b[43m        \u001b[49m\u001b[43mjustify\u001b[49m\u001b[43m=\u001b[49m\u001b[43mjustify\u001b[49m\u001b[43m,\u001b[49m\n\u001b[32m    347\u001b[39m \u001b[43m        \u001b[49m\u001b[43midle_wires\u001b[49m\u001b[43m=\u001b[49m\u001b[43midle_wires\u001b[49m\u001b[43m,\u001b[49m\n\u001b[32m    348\u001b[39m \u001b[43m        \u001b[49m\u001b[43mwith_layout\u001b[49m\u001b[43m=\u001b[49m\u001b[43mwith_layout\u001b[49m\u001b[43m,\u001b[49m\n\u001b[32m    349\u001b[39m \u001b[43m        \u001b[49m\u001b[43mfold\u001b[49m\u001b[43m=\u001b[49m\u001b[43mfold\u001b[49m\u001b[43m,\u001b[49m\n\u001b[32m    350\u001b[39m \u001b[43m        \u001b[49m\u001b[43max\u001b[49m\u001b[43m=\u001b[49m\u001b[43max\u001b[49m\u001b[43m,\u001b[49m\n\u001b[32m    351\u001b[39m \u001b[43m        \u001b[49m\u001b[43minitial_state\u001b[49m\u001b[43m=\u001b[49m\u001b[43minitial_state\u001b[49m\u001b[43m,\u001b[49m\n\u001b[32m    352\u001b[39m \u001b[43m        \u001b[49m\u001b[43mcregbundle\u001b[49m\u001b[43m=\u001b[49m\u001b[43mcregbundle\u001b[49m\u001b[43m,\u001b[49m\n\u001b[32m    353\u001b[39m \u001b[43m        \u001b[49m\u001b[43mwire_order\u001b[49m\u001b[43m=\u001b[49m\u001b[43mcomplete_wire_order\u001b[49m\u001b[43m,\u001b[49m\n\u001b[32m    354\u001b[39m \u001b[43m        \u001b[49m\u001b[43mexpr_len\u001b[49m\u001b[43m=\u001b[49m\u001b[43mexpr_len\u001b[49m\u001b[43m,\u001b[49m\n\u001b[32m    355\u001b[39m \u001b[43m    \u001b[49m\u001b[43m)\u001b[49m\n\u001b[32m    356\u001b[39m \u001b[38;5;28;01melse\u001b[39;00m:\n\u001b[32m    357\u001b[39m     \u001b[38;5;28;01mraise\u001b[39;00m VisualizationError(\n\u001b[32m    358\u001b[39m         \u001b[33mf\u001b[39m\u001b[33m\"\u001b[39m\u001b[33mInvalid output type \u001b[39m\u001b[38;5;132;01m{\u001b[39;00moutput\u001b[38;5;132;01m}\u001b[39;00m\u001b[33m selected. The only valid choices \u001b[39m\u001b[33m\"\u001b[39m\n\u001b[32m    359\u001b[39m         \u001b[33m\"\u001b[39m\u001b[33mare text, latex, latex_source, and mpl\u001b[39m\u001b[33m\"\u001b[39m\n\u001b[32m    360\u001b[39m     )\n",
      "\u001b[36mFile \u001b[39m\u001b[32m~\\myenv\\Lib\\site-packages\\qiskit\\visualization\\circuit\\circuit_visualization.py:719\u001b[39m, in \u001b[36m_matplotlib_circuit_drawer\u001b[39m\u001b[34m(circuit, scale, filename, style, plot_barriers, reverse_bits, justify, idle_wires, with_layout, fold, ax, initial_state, cregbundle, wire_order, expr_len)\u001b[39m\n\u001b[32m    716\u001b[39m \u001b[38;5;28;01mif\u001b[39;00m fold \u001b[38;5;129;01mis\u001b[39;00m \u001b[38;5;28;01mNone\u001b[39;00m:\n\u001b[32m    717\u001b[39m     fold = \u001b[32m25\u001b[39m\n\u001b[32m--> \u001b[39m\u001b[32m719\u001b[39m qcd = \u001b[43m_matplotlib\u001b[49m\u001b[43m.\u001b[49m\u001b[43mMatplotlibDrawer\u001b[49m\u001b[43m(\u001b[49m\n\u001b[32m    720\u001b[39m \u001b[43m    \u001b[49m\u001b[43mqubits\u001b[49m\u001b[43m,\u001b[49m\n\u001b[32m    721\u001b[39m \u001b[43m    \u001b[49m\u001b[43mclbits\u001b[49m\u001b[43m,\u001b[49m\n\u001b[32m    722\u001b[39m \u001b[43m    \u001b[49m\u001b[43mnodes\u001b[49m\u001b[43m,\u001b[49m\n\u001b[32m    723\u001b[39m \u001b[43m    \u001b[49m\u001b[43mcircuit\u001b[49m\u001b[43m,\u001b[49m\n\u001b[32m    724\u001b[39m \u001b[43m    \u001b[49m\u001b[43mscale\u001b[49m\u001b[43m=\u001b[49m\u001b[43mscale\u001b[49m\u001b[43m,\u001b[49m\n\u001b[32m    725\u001b[39m \u001b[43m    \u001b[49m\u001b[43mstyle\u001b[49m\u001b[43m=\u001b[49m\u001b[43mstyle\u001b[49m\u001b[43m,\u001b[49m\n\u001b[32m    726\u001b[39m \u001b[43m    \u001b[49m\u001b[43mreverse_bits\u001b[49m\u001b[43m=\u001b[49m\u001b[43mreverse_bits\u001b[49m\u001b[43m,\u001b[49m\n\u001b[32m    727\u001b[39m \u001b[43m    \u001b[49m\u001b[43mplot_barriers\u001b[49m\u001b[43m=\u001b[49m\u001b[43mplot_barriers\u001b[49m\u001b[43m,\u001b[49m\n\u001b[32m    728\u001b[39m \u001b[43m    \u001b[49m\u001b[43mfold\u001b[49m\u001b[43m=\u001b[49m\u001b[43mfold\u001b[49m\u001b[43m,\u001b[49m\n\u001b[32m    729\u001b[39m \u001b[43m    \u001b[49m\u001b[43max\u001b[49m\u001b[43m=\u001b[49m\u001b[43max\u001b[49m\u001b[43m,\u001b[49m\n\u001b[32m    730\u001b[39m \u001b[43m    \u001b[49m\u001b[43minitial_state\u001b[49m\u001b[43m=\u001b[49m\u001b[43minitial_state\u001b[49m\u001b[43m,\u001b[49m\n\u001b[32m    731\u001b[39m \u001b[43m    \u001b[49m\u001b[43mcregbundle\u001b[49m\u001b[43m=\u001b[49m\u001b[43mcregbundle\u001b[49m\u001b[43m,\u001b[49m\n\u001b[32m    732\u001b[39m \u001b[43m    \u001b[49m\u001b[43mwith_layout\u001b[49m\u001b[43m=\u001b[49m\u001b[43mwith_layout\u001b[49m\u001b[43m,\u001b[49m\n\u001b[32m    733\u001b[39m \u001b[43m    \u001b[49m\u001b[43mexpr_len\u001b[49m\u001b[43m=\u001b[49m\u001b[43mexpr_len\u001b[49m\u001b[43m,\u001b[49m\n\u001b[32m    734\u001b[39m \u001b[43m\u001b[49m\u001b[43m)\u001b[49m\n\u001b[32m    735\u001b[39m \u001b[38;5;28;01mreturn\u001b[39;00m qcd.draw(filename)\n",
      "\u001b[36mFile \u001b[39m\u001b[32m~\\myenv\\Lib\\site-packages\\qiskit\\utils\\classtools.py:111\u001b[39m, in \u001b[36m_WrappedMethod.__get__.<locals>.out\u001b[39m\u001b[34m(*args, **kwargs)\u001b[39m\n\u001b[32m    108\u001b[39m \u001b[38;5;129m@functools\u001b[39m.wraps(method)\n\u001b[32m    109\u001b[39m \u001b[38;5;28;01mdef\u001b[39;00m\u001b[38;5;250m \u001b[39m\u001b[34mout\u001b[39m(*args, **kwargs):\n\u001b[32m    110\u001b[39m     \u001b[38;5;28;01mfor\u001b[39;00m callback \u001b[38;5;129;01min\u001b[39;00m \u001b[38;5;28mself\u001b[39m._before:\n\u001b[32m--> \u001b[39m\u001b[32m111\u001b[39m         \u001b[43mcallback\u001b[49m\u001b[43m.\u001b[49m\u001b[34;43m__get__\u001b[39;49m\u001b[43m(\u001b[49m\u001b[43mobj\u001b[49m\u001b[43m,\u001b[49m\u001b[43m \u001b[49m\u001b[43mobjtype\u001b[49m\u001b[43m)\u001b[49m\u001b[43m(\u001b[49m\u001b[43m*\u001b[49m\u001b[43margs\u001b[49m\u001b[43m,\u001b[49m\u001b[43m \u001b[49m\u001b[43m*\u001b[49m\u001b[43m*\u001b[49m\u001b[43mkwargs\u001b[49m\u001b[43m)\u001b[49m\n\u001b[32m    112\u001b[39m     retval = method(*args, **kwargs)\n\u001b[32m    113\u001b[39m     \u001b[38;5;28;01mfor\u001b[39;00m callback \u001b[38;5;129;01min\u001b[39;00m \u001b[38;5;28mself\u001b[39m._after:\n",
      "\u001b[36mFile \u001b[39m\u001b[32m~\\myenv\\Lib\\site-packages\\qiskit\\utils\\lazy_tester.py:41\u001b[39m, in \u001b[36m_RequireNow.__call__\u001b[39m\u001b[34m(self, *_args, **_kwargs)\u001b[39m\n\u001b[32m     40\u001b[39m \u001b[38;5;28;01mdef\u001b[39;00m\u001b[38;5;250m \u001b[39m\u001b[34m__call__\u001b[39m(\u001b[38;5;28mself\u001b[39m, *_args, **_kwargs):\n\u001b[32m---> \u001b[39m\u001b[32m41\u001b[39m     \u001b[38;5;28;43mself\u001b[39;49m\u001b[43m.\u001b[49m\u001b[43m_tester\u001b[49m\u001b[43m.\u001b[49m\u001b[43mrequire_now\u001b[49m\u001b[43m(\u001b[49m\u001b[38;5;28;43mself\u001b[39;49m\u001b[43m.\u001b[49m\u001b[43m_feature\u001b[49m\u001b[43m)\u001b[49m\n",
      "\u001b[36mFile \u001b[39m\u001b[32m~\\myenv\\Lib\\site-packages\\qiskit\\utils\\lazy_tester.py:221\u001b[39m, in \u001b[36mLazyDependencyManager.require_now\u001b[39m\u001b[34m(self, feature)\u001b[39m\n\u001b[32m    219\u001b[39m \u001b[38;5;28;01mif\u001b[39;00m \u001b[38;5;28mself\u001b[39m:\n\u001b[32m    220\u001b[39m     \u001b[38;5;28;01mreturn\u001b[39;00m\n\u001b[32m--> \u001b[39m\u001b[32m221\u001b[39m \u001b[38;5;28;01mraise\u001b[39;00m MissingOptionalLibraryError(\n\u001b[32m    222\u001b[39m     libname=\u001b[38;5;28mself\u001b[39m._name, name=feature, pip_install=\u001b[38;5;28mself\u001b[39m._install, msg=\u001b[38;5;28mself\u001b[39m._msg\n\u001b[32m    223\u001b[39m )\n",
      "\u001b[31mMissingOptionalLibraryError\u001b[39m: \"The 'pylatexenc' library is required to use 'MatplotlibDrawer'. You can install it with 'pip install pylatexenc'.\""
     ]
    }
   ],
   "source": [
    "from qiskit import QuantumCircuit\n",
    "\n",
    "qc = QuantumCircuit(1, 1)\n",
    "qc.h(0)          # Give her that Hadamard glow-up\n",
    "qc.measure(0, 0) # Don't forget to clock the look!\n",
    "qc.draw('mpl')\n",
    "\n"
   ]
  },
  {
   "cell_type": "code",
   "execution_count": 10,
   "id": "5a34d7f1-8cd2-4cd3-9bc1-a9ead5fcd4a2",
   "metadata": {},
   "outputs": [
    {
     "name": "stdout",
     "output_type": "stream",
     "text": [
      "Note: you may need to restart the kernel to use updated packages.\n"
     ]
    }
   ],
   "source": [
    "pip install pylatexenc --quiet\n"
   ]
  },
  {
   "cell_type": "code",
   "execution_count": 1,
   "id": "785025cd-54aa-4644-99d5-8f6324878746",
   "metadata": {},
   "outputs": [
    {
     "ename": "NameError",
     "evalue": "name 'QuantumCircuit' is not defined",
     "output_type": "error",
     "traceback": [
      "\u001b[31m---------------------------------------------------------------------------\u001b[39m",
      "\u001b[31mNameError\u001b[39m                                 Traceback (most recent call last)",
      "\u001b[36mCell\u001b[39m\u001b[36m \u001b[39m\u001b[32mIn[1]\u001b[39m\u001b[32m, line 1\u001b[39m\n\u001b[32m----> \u001b[39m\u001b[32m1\u001b[39m qc = \u001b[43mQuantumCircuit\u001b[49m(\u001b[32m1\u001b[39m, \u001b[32m1\u001b[39m)\n\u001b[32m      2\u001b[39m qc.h(\u001b[32m0\u001b[39m)\n\u001b[32m      3\u001b[39m qc.measure(\u001b[32m0\u001b[39m, \u001b[32m0\u001b[39m)\n",
      "\u001b[31mNameError\u001b[39m: name 'QuantumCircuit' is not defined"
     ]
    }
   ],
   "source": [
    "qc = QuantumCircuit(1, 1)\n",
    "qc.h(0)\n",
    "qc.measure(0, 0)\n",
    "qc.draw('mpl')  # Now serving looks! 💃\n"
   ]
  },
  {
   "cell_type": "code",
   "execution_count": 3,
   "id": "7f77c8d5-e949-4ab7-9cc5-7bb11e33e7f7",
   "metadata": {},
   "outputs": [],
   "source": [
    "from qiskit_aer.noise import NoiseModel, depolarizing_error\n",
    "from qiskit import QuantumCircuit, transpile\n",
    "from qiskit_aer import Aer\n",
    "import matplotlib.pyplot as plt\n",
    "from mitiq import zne"
   ]
  },
  {
   "cell_type": "code",
   "execution_count": 4,
   "id": "4ffeeece-8abd-4dce-80df-cab00569e670",
   "metadata": {},
   "outputs": [],
   "source": [
    "!pip install qiskit-aer --quiet\n",
    "\n"
   ]
  },
  {
   "cell_type": "code",
   "execution_count": 5,
   "id": "cf79bd87-5f07-4a5a-b889-2aeed4f89a5b",
   "metadata": {},
   "outputs": [
    {
     "data": {
      "image/png": "[encoded data removed]",
      "text/plain": [
       "<Figure size 269.064x200.667 with 1 Axes>"
      ]
     },
     "execution_count": 5,
     "metadata": {},
     "output_type": "execute_result"
    }
   ],
   "source": [
    "from qiskit import QuantumCircuit\n",
    "\n",
    "qc = QuantumCircuit(1, 1)\n",
    "qc.h(0)          # Give her that Hadamard glow-up\n",
    "qc.measure(0, 0) # Don't forget to clock the look!\n",
    "qc.draw('mpl')\n"
   ]
  },
  {
   "cell_type": "code",
   "execution_count": 6,
   "id": "a7fabe67-1996-45f9-815f-8e6ba5d0b89a",
   "metadata": {},
   "outputs": [],
   "source": [
    "from qiskit_aer.noise import NoiseModel, depolarizing_error\n",
    "\n",
    "noise_model = NoiseModel()\n",
    "noise_model.add_all_qubit_quantum_error(depolarizing_error(0.2, 1), ['h'])\n"
   ]
  },
  {
   "cell_type": "code",
   "execution_count": 7,
   "id": "c35f482c-b791-40ba-a8dc-0631f6e0fc9b",
   "metadata": {},
   "outputs": [],
   "source": [
    "from qiskit_aer import Aer\n",
    "from qiskit import transpile\n",
    "\n",
    "def execute_with_noise(circuit):\n",
    "    backend = Aer.get_backend('qasm_simulator')\n",
    "    tqc = transpile(circuit, backend)\n",
    "    job = backend.run(tqc, shots=1000, noise_model=noise_model)\n",
    "    counts = job.result().get_counts()\n",
    "    return counts.get('0', 0) / 1000\n"
   ]
  },
  {
   "cell_type": "code",
   "execution_count": 8,
   "id": "9a4b89da-8162-454b-a826-aa412d928bef",
   "metadata": {},
   "outputs": [
    {
     "name": "stdout",
     "output_type": "stream",
     "text": [
      "Noisy result (probability of 0): 0.493\n"
     ]
    }
   ],
   "source": [
    "raw_result = execute_with_noise(qc)\n",
    "print(\"Noisy result (probability of 0):\", raw_result)\n"
   ]
  },
  {
   "cell_type": "code",
   "execution_count": 9,
   "id": "3c35bae0-aece-478c-8a8a-31b05d37eebc",
   "metadata": {},
   "outputs": [
    {
     "ename": "ModuleNotFoundError",
     "evalue": "No module named 'ply'",
     "output_type": "error",
     "traceback": [
      "\u001b[31m---------------------------------------------------------------------------\u001b[39m",
      "\u001b[31mModuleNotFoundError\u001b[39m                       Traceback (most recent call last)",
      "\u001b[36mCell\u001b[39m\u001b[36m \u001b[39m\u001b[32mIn[9]\u001b[39m\u001b[32m, line 3\u001b[39m\n\u001b[32m      1\u001b[39m \u001b[38;5;28;01mfrom\u001b[39;00m\u001b[38;5;250m \u001b[39m\u001b[34;01mmitiq\u001b[39;00m\u001b[38;5;250m \u001b[39m\u001b[38;5;28;01mimport\u001b[39;00m zne\n\u001b[32m----> \u001b[39m\u001b[32m3\u001b[39m mitigated_result = \u001b[43mzne\u001b[49m\u001b[43m.\u001b[49m\u001b[43mexecute_with_zne\u001b[49m\u001b[43m(\u001b[49m\u001b[43mqc\u001b[49m\u001b[43m,\u001b[49m\u001b[43m \u001b[49m\u001b[43mexecute_with_noise\u001b[49m\u001b[43m)\u001b[49m\n\u001b[32m      4\u001b[39m \u001b[38;5;28mprint\u001b[39m(\u001b[33m\"\u001b[39m\u001b[33mMitigated result (probability of 0):\u001b[39m\u001b[33m\"\u001b[39m, mitigated_result)\n",
      "\u001b[36mFile \u001b[39m\u001b[32m~\\myenv\\Lib\\site-packages\\mitiq\\zne\\zne.py:109\u001b[39m, in \u001b[36mexecute_with_zne\u001b[39m\u001b[34m(circuit, executor, observable, factory, scale_noise, num_to_average)\u001b[39m\n\u001b[32m    106\u001b[39m \u001b[38;5;28;01mif\u001b[39;00m num_to_average < \u001b[32m1\u001b[39m:\n\u001b[32m    107\u001b[39m     \u001b[38;5;28;01mraise\u001b[39;00m \u001b[38;5;167;01mValueError\u001b[39;00m(\u001b[33m\"\u001b[39m\u001b[33mArgument `num_to_average` must be a positive int.\u001b[39m\u001b[33m\"\u001b[39m)\n\u001b[32m--> \u001b[39m\u001b[32m109\u001b[39m \u001b[38;5;28;01mreturn\u001b[39;00m \u001b[43mfactory\u001b[49m\u001b[43m.\u001b[49m\u001b[43mrun\u001b[49m\u001b[43m(\u001b[49m\n\u001b[32m    110\u001b[39m \u001b[43m    \u001b[49m\u001b[43mcircuit\u001b[49m\u001b[43m,\u001b[49m\u001b[43m \u001b[49m\u001b[43mexecutor\u001b[49m\u001b[43m,\u001b[49m\u001b[43m \u001b[49m\u001b[43mobservable\u001b[49m\u001b[43m,\u001b[49m\u001b[43m \u001b[49m\u001b[43mscale_noise\u001b[49m\u001b[43m,\u001b[49m\u001b[43m \u001b[49m\u001b[38;5;28;43mint\u001b[39;49m\u001b[43m(\u001b[49m\u001b[43mnum_to_average\u001b[49m\u001b[43m)\u001b[49m\n\u001b[32m    111\u001b[39m \u001b[43m\u001b[49m\u001b[43m)\u001b[49m.reduce()\n",
      "\u001b[36mFile \u001b[39m\u001b[32m~\\myenv\\Lib\\site-packages\\mitiq\\zne\\inference.py:538\u001b[39m, in \u001b[36mBatchedFactory.run\u001b[39m\u001b[34m(self, qp, executor, observable, scale_noise, num_to_average)\u001b[39m\n\u001b[32m    535\u001b[39m \u001b[38;5;28mself\u001b[39m.reset()\n\u001b[32m    536\u001b[39m \u001b[38;5;28mself\u001b[39m._batch_populate_instack()\n\u001b[32m--> \u001b[39m\u001b[32m538\u001b[39m \u001b[43m_check_circuit_length\u001b[49m\u001b[43m(\u001b[49m\u001b[43mqp\u001b[49m\u001b[43m)\u001b[49m\n\u001b[32m    540\u001b[39m \u001b[38;5;66;03m# Get all noise-scaled circuits to run.\u001b[39;00m\n\u001b[32m    541\u001b[39m to_run = \u001b[38;5;28mself\u001b[39m._generate_circuits(qp, scale_noise, num_to_average)\n",
      "\u001b[36mFile \u001b[39m\u001b[32m~\\myenv\\Lib\\site-packages\\mitiq\\interface\\conversions.py:230\u001b[39m, in \u001b[36maccept_any_qprogram_as_input.<locals>.accept_any_qprogram_function\u001b[39m\u001b[34m(circuit, *args, **kwargs)\u001b[39m\n\u001b[32m    226\u001b[39m \u001b[38;5;129m@wraps\u001b[39m(accept_cirq_circuit_function)\n\u001b[32m    227\u001b[39m \u001b[38;5;28;01mdef\u001b[39;00m\u001b[38;5;250m \u001b[39m\u001b[34maccept_any_qprogram_function\u001b[39m(\n\u001b[32m    228\u001b[39m     circuit: QPROGRAM, *args: P.args, **kwargs: P.kwargs\n\u001b[32m    229\u001b[39m ) -> R:\n\u001b[32m--> \u001b[39m\u001b[32m230\u001b[39m     cirq_circuit, _ = \u001b[43mconvert_to_mitiq\u001b[49m\u001b[43m(\u001b[49m\u001b[43mcircuit\u001b[49m\u001b[43m)\u001b[49m\n\u001b[32m    231\u001b[39m     \u001b[38;5;28;01mreturn\u001b[39;00m accept_cirq_circuit_function(cirq_circuit, *args, **kwargs)\n",
      "\u001b[36mFile \u001b[39m\u001b[32m~\\myenv\\Lib\\site-packages\\mitiq\\interface\\conversions.py:96\u001b[39m, in \u001b[36mconvert_to_mitiq\u001b[39m\u001b[34m(circuit)\u001b[39m\n\u001b[32m     91\u001b[39m     \u001b[38;5;28;01mraise\u001b[39;00m UnsupportedCircuitError(\n\u001b[32m     92\u001b[39m         \u001b[33m\"\u001b[39m\u001b[33mCould not determine the package of the input circuit.\u001b[39m\u001b[33m\"\u001b[39m\n\u001b[32m     93\u001b[39m     )\n\u001b[32m     95\u001b[39m \u001b[38;5;28;01mif\u001b[39;00m \u001b[33m\"\u001b[39m\u001b[33mqiskit\u001b[39m\u001b[33m\"\u001b[39m \u001b[38;5;129;01min\u001b[39;00m package:\n\u001b[32m---> \u001b[39m\u001b[32m96\u001b[39m     \u001b[38;5;28;01mfrom\u001b[39;00m\u001b[38;5;250m \u001b[39m\u001b[34;01mmitiq\u001b[39;00m\u001b[34;01m.\u001b[39;00m\u001b[34;01minterface\u001b[39;00m\u001b[34;01m.\u001b[39;00m\u001b[34;01mmitiq_qiskit\u001b[39;00m\u001b[34;01m.\u001b[39;00m\u001b[34;01mconversions\u001b[39;00m\u001b[38;5;250m \u001b[39m\u001b[38;5;28;01mimport\u001b[39;00m from_qiskit\n\u001b[32m     98\u001b[39m     input_circuit_type = \u001b[33m\"\u001b[39m\u001b[33mqiskit\u001b[39m\u001b[33m\"\u001b[39m\n\u001b[32m     99\u001b[39m     conversion_function = from_qiskit\n",
      "\u001b[36mFile \u001b[39m\u001b[32m~\\myenv\\Lib\\site-packages\\mitiq\\interface\\mitiq_qiskit\\__init__.py:6\u001b[39m\n\u001b[32m      1\u001b[39m \u001b[38;5;66;03m# Copyright (C) Unitary Foundation\u001b[39;00m\n\u001b[32m      2\u001b[39m \u001b[38;5;66;03m#\u001b[39;00m\n\u001b[32m      3\u001b[39m \u001b[38;5;66;03m# This source code is licensed under the GPL license (v3) found in the\u001b[39;00m\n\u001b[32m      4\u001b[39m \u001b[38;5;66;03m# LICENSE file in the root directory of this source tree.\u001b[39;00m\n\u001b[32m----> \u001b[39m\u001b[32m6\u001b[39m \u001b[38;5;28;01mfrom\u001b[39;00m\u001b[38;5;250m \u001b[39m\u001b[34;01mmitiq\u001b[39;00m\u001b[34;01m.\u001b[39;00m\u001b[34;01minterface\u001b[39;00m\u001b[34;01m.\u001b[39;00m\u001b[34;01mmitiq_qiskit\u001b[39;00m\u001b[34;01m.\u001b[39;00m\u001b[34;01mconversions\u001b[39;00m\u001b[38;5;250m \u001b[39m\u001b[38;5;28;01mimport\u001b[39;00m (\n\u001b[32m      7\u001b[39m     from_qasm,\n\u001b[32m      8\u001b[39m     from_qiskit,\n\u001b[32m      9\u001b[39m     to_qasm,\n\u001b[32m     10\u001b[39m     to_qiskit,\n\u001b[32m     11\u001b[39m )\n\u001b[32m     12\u001b[39m \u001b[38;5;28;01mfrom\u001b[39;00m\u001b[38;5;250m \u001b[39m\u001b[34;01mmitiq\u001b[39;00m\u001b[34;01m.\u001b[39;00m\u001b[34;01minterface\u001b[39;00m\u001b[34;01m.\u001b[39;00m\u001b[34;01mmitiq_qiskit\u001b[39;00m\u001b[34;01m.\u001b[39;00m\u001b[34;01mqiskit_utils\u001b[39;00m\u001b[38;5;250m \u001b[39m\u001b[38;5;28;01mimport\u001b[39;00m (\n\u001b[32m     13\u001b[39m     execute,\n\u001b[32m     14\u001b[39m     execute_with_shots,\n\u001b[32m   (...)\u001b[39m\u001b[32m     17\u001b[39m     initialized_depolarizing_noise,\n\u001b[32m     18\u001b[39m )\n\u001b[32m     19\u001b[39m \u001b[38;5;28;01mfrom\u001b[39;00m\u001b[38;5;250m \u001b[39m\u001b[34;01mmitiq\u001b[39;00m\u001b[34;01m.\u001b[39;00m\u001b[34;01minterface\u001b[39;00m\u001b[34;01m.\u001b[39;00m\u001b[34;01mmitiq_qiskit\u001b[39;00m\u001b[34;01m.\u001b[39;00m\u001b[34;01mtranspiler\u001b[39;00m\u001b[38;5;250m \u001b[39m\u001b[38;5;28;01mimport\u001b[39;00m (\n\u001b[32m     20\u001b[39m     ApplyMitiqLayout,\n\u001b[32m     21\u001b[39m     ClearLayout,\n\u001b[32m     22\u001b[39m )\n",
      "\u001b[36mFile \u001b[39m\u001b[32m~\\myenv\\Lib\\site-packages\\mitiq\\interface\\mitiq_qiskit\\conversions.py:16\u001b[39m\n\u001b[32m     14\u001b[39m \u001b[38;5;28;01mimport\u001b[39;00m\u001b[38;5;250m \u001b[39m\u001b[34;01mnumpy\u001b[39;00m\u001b[38;5;250m \u001b[39m\u001b[38;5;28;01mas\u001b[39;00m\u001b[38;5;250m \u001b[39m\u001b[34;01mnp\u001b[39;00m\n\u001b[32m     15\u001b[39m \u001b[38;5;28;01mimport\u001b[39;00m\u001b[38;5;250m \u001b[39m\u001b[34;01mqiskit\u001b[39;00m\n\u001b[32m---> \u001b[39m\u001b[32m16\u001b[39m \u001b[38;5;28;01mfrom\u001b[39;00m\u001b[38;5;250m \u001b[39m\u001b[34;01mcirq\u001b[39;00m\u001b[34;01m.\u001b[39;00m\u001b[34;01mcontrib\u001b[39;00m\u001b[34;01m.\u001b[39;00m\u001b[34;01mqasm_import\u001b[39;00m\u001b[38;5;250m \u001b[39m\u001b[38;5;28;01mimport\u001b[39;00m circuit_from_qasm\n\u001b[32m     17\u001b[39m \u001b[38;5;28;01mfrom\u001b[39;00m\u001b[38;5;250m \u001b[39m\u001b[34;01mcirq\u001b[39;00m\u001b[34;01m.\u001b[39;00m\u001b[34;01mcontrib\u001b[39;00m\u001b[34;01m.\u001b[39;00m\u001b[34;01mqasm_import\u001b[39;00m\u001b[34;01m.\u001b[39;00m\u001b[34;01mexception\u001b[39;00m\u001b[38;5;250m \u001b[39m\u001b[38;5;28;01mimport\u001b[39;00m QasmException\n\u001b[32m     18\u001b[39m \u001b[38;5;28;01mfrom\u001b[39;00m\u001b[38;5;250m \u001b[39m\u001b[34;01mqiskit\u001b[39;00m\u001b[38;5;250m \u001b[39m\u001b[38;5;28;01mimport\u001b[39;00m qasm2\n",
      "\u001b[36mFile \u001b[39m\u001b[32m~\\myenv\\Lib\\site-packages\\cirq\\contrib\\qasm_import\\__init__.py:16\u001b[39m\n\u001b[32m      1\u001b[39m \u001b[38;5;66;03m# Copyright 2018 The Cirq Developers\u001b[39;00m\n\u001b[32m      2\u001b[39m \u001b[38;5;66;03m#\u001b[39;00m\n\u001b[32m      3\u001b[39m \u001b[38;5;66;03m# Licensed under the Apache License, Version 2.0 (the \"License\");\u001b[39;00m\n\u001b[32m   (...)\u001b[39m\u001b[32m     12\u001b[39m \u001b[38;5;66;03m# See the License for the specific language governing permissions and\u001b[39;00m\n\u001b[32m     13\u001b[39m \u001b[38;5;66;03m# limitations under the License.\u001b[39;00m\n\u001b[32m     15\u001b[39m \u001b[38;5;28;01mfrom\u001b[39;00m\u001b[38;5;250m \u001b[39m\u001b[34;01mcirq\u001b[39;00m\u001b[34;01m.\u001b[39;00m\u001b[34;01mcontrib\u001b[39;00m\u001b[34;01m.\u001b[39;00m\u001b[34;01mqasm_import\u001b[39;00m\u001b[34;01m.\u001b[39;00m\u001b[34;01mexception\u001b[39;00m\u001b[38;5;250m \u001b[39m\u001b[38;5;28;01mimport\u001b[39;00m QasmException\n\u001b[32m---> \u001b[39m\u001b[32m16\u001b[39m \u001b[38;5;28;01mfrom\u001b[39;00m\u001b[38;5;250m \u001b[39m\u001b[34;01mcirq\u001b[39;00m\u001b[34;01m.\u001b[39;00m\u001b[34;01mcontrib\u001b[39;00m\u001b[34;01m.\u001b[39;00m\u001b[34;01mqasm_import\u001b[39;00m\u001b[34;01m.\u001b[39;00m\u001b[34;01mqasm\u001b[39;00m\u001b[38;5;250m \u001b[39m\u001b[38;5;28;01mimport\u001b[39;00m circuit_from_qasm\n",
      "\u001b[36mFile \u001b[39m\u001b[32m~\\myenv\\Lib\\site-packages\\cirq\\contrib\\qasm_import\\qasm.py:16\u001b[39m\n\u001b[32m      1\u001b[39m \u001b[38;5;66;03m# Copyright 2018 The Cirq Developers\u001b[39;00m\n\u001b[32m      2\u001b[39m \u001b[38;5;66;03m#\u001b[39;00m\n\u001b[32m      3\u001b[39m \u001b[38;5;66;03m# Licensed under the Apache License, Version 2.0 (the \"License\");\u001b[39;00m\n\u001b[32m   (...)\u001b[39m\u001b[32m     12\u001b[39m \u001b[38;5;66;03m# See the License for the specific language governing permissions and\u001b[39;00m\n\u001b[32m     13\u001b[39m \u001b[38;5;66;03m# limitations under the License.\u001b[39;00m\n\u001b[32m     15\u001b[39m \u001b[38;5;28;01mfrom\u001b[39;00m\u001b[38;5;250m \u001b[39m\u001b[34;01mcirq\u001b[39;00m\u001b[38;5;250m \u001b[39m\u001b[38;5;28;01mimport\u001b[39;00m circuits\n\u001b[32m---> \u001b[39m\u001b[32m16\u001b[39m \u001b[38;5;28;01mfrom\u001b[39;00m\u001b[38;5;250m \u001b[39m\u001b[34;01mcirq\u001b[39;00m\u001b[34;01m.\u001b[39;00m\u001b[34;01mcontrib\u001b[39;00m\u001b[34;01m.\u001b[39;00m\u001b[34;01mqasm_import\u001b[39;00m\u001b[34;01m.\u001b[39;00m\u001b[34;01m_parser\u001b[39;00m\u001b[38;5;250m \u001b[39m\u001b[38;5;28;01mimport\u001b[39;00m QasmParser\n\u001b[32m     19\u001b[39m \u001b[38;5;28;01mdef\u001b[39;00m\u001b[38;5;250m \u001b[39m\u001b[34mcircuit_from_qasm\u001b[39m(qasm: \u001b[38;5;28mstr\u001b[39m) -> circuits.Circuit:\n\u001b[32m     20\u001b[39m \u001b[38;5;250m    \u001b[39m\u001b[33;03m\"\"\"Parses an OpenQASM string to `cirq.Circuit`.\u001b[39;00m\n\u001b[32m     21\u001b[39m \n\u001b[32m     22\u001b[39m \u001b[33;03m    Args:\u001b[39;00m\n\u001b[32m   (...)\u001b[39m\u001b[32m     26\u001b[39m \u001b[33;03m        The parsed circuit\u001b[39;00m\n\u001b[32m     27\u001b[39m \u001b[33;03m    \"\"\"\u001b[39;00m\n",
      "\u001b[36mFile \u001b[39m\u001b[32m~\\myenv\\Lib\\site-packages\\cirq\\contrib\\qasm_import\\_parser.py:21\u001b[39m\n\u001b[32m     19\u001b[39m \u001b[38;5;28;01mimport\u001b[39;00m\u001b[38;5;250m \u001b[39m\u001b[34;01mnumpy\u001b[39;00m\u001b[38;5;250m \u001b[39m\u001b[38;5;28;01mas\u001b[39;00m\u001b[38;5;250m \u001b[39m\u001b[34;01mnp\u001b[39;00m\n\u001b[32m     20\u001b[39m \u001b[38;5;28;01mimport\u001b[39;00m\u001b[38;5;250m \u001b[39m\u001b[34;01msympy\u001b[39;00m\n\u001b[32m---> \u001b[39m\u001b[32m21\u001b[39m \u001b[38;5;28;01mfrom\u001b[39;00m\u001b[38;5;250m \u001b[39m\u001b[34;01mply\u001b[39;00m\u001b[38;5;250m \u001b[39m\u001b[38;5;28;01mimport\u001b[39;00m yacc\n\u001b[32m     23\u001b[39m \u001b[38;5;28;01mfrom\u001b[39;00m\u001b[38;5;250m \u001b[39m\u001b[34;01mcirq\u001b[39;00m\u001b[38;5;250m \u001b[39m\u001b[38;5;28;01mimport\u001b[39;00m ops, Circuit, NamedQubit, CX\n\u001b[32m     24\u001b[39m \u001b[38;5;28;01mfrom\u001b[39;00m\u001b[38;5;250m \u001b[39m\u001b[34;01mcirq\u001b[39;00m\u001b[34;01m.\u001b[39;00m\u001b[34;01mcircuits\u001b[39;00m\u001b[34;01m.\u001b[39;00m\u001b[34;01mqasm_output\u001b[39;00m\u001b[38;5;250m \u001b[39m\u001b[38;5;28;01mimport\u001b[39;00m QasmUGate\n",
      "\u001b[31mModuleNotFoundError\u001b[39m: No module named 'ply'"
     ]
    }
   ],
   "source": [
    "from mitiq import zne\n",
    "\n",
    "mitigated_result = zne.execute_with_zne(qc, execute_with_noise)\n",
    "print(\"Mitigated result (probability of 0):\", mitigated_result)\n"
   ]
  },
  {
   "cell_type": "code",
   "execution_count": 10,
   "id": "7c18ff19-fcc9-4f47-9720-57bdbcc30059",
   "metadata": {},
   "outputs": [
    {
     "name": "stdout",
     "output_type": "stream",
     "text": [
      "Note: you may need to restart the kernel to use updated packages.\n"
     ]
    }
   ],
   "source": [
    "pip install ply --quiet\n"
   ]
  },
  {
   "cell_type": "code",
   "execution_count": 1,
   "id": "afa3af34-f2ae-4776-b9df-bf352da51aa9",
   "metadata": {},
   "outputs": [
    {
     "ename": "NameError",
     "evalue": "name 'QuantumCircuit' is not defined",
     "output_type": "error",
     "traceback": [
      "\u001b[31m---------------------------------------------------------------------------\u001b[39m",
      "\u001b[31mNameError\u001b[39m                                 Traceback (most recent call last)",
      "\u001b[36mCell\u001b[39m\u001b[36m \u001b[39m\u001b[32mIn[1]\u001b[39m\u001b[32m, line 1\u001b[39m\n\u001b[32m----> \u001b[39m\u001b[32m1\u001b[39m qc = \u001b[43mQuantumCircuit\u001b[49m(\u001b[32m1\u001b[39m, \u001b[32m1\u001b[39m)\n\u001b[32m      2\u001b[39m qc.h(\u001b[32m0\u001b[39m)          \u001b[38;5;66;03m# Hadamard - superposition realness\u001b[39;00m\n\u001b[32m      3\u001b[39m qc.measure(\u001b[32m0\u001b[39m, \u001b[32m0\u001b[39m) \u001b[38;5;66;03m# Measure the drama\u001b[39;00m\n",
      "\u001b[31mNameError\u001b[39m: name 'QuantumCircuit' is not defined"
     ]
    }
   ],
   "source": [
    "qc = QuantumCircuit(1, 1)\n",
    "qc.h(0)          # Hadamard - superposition realness\n",
    "qc.measure(0, 0) # Measure the drama\n",
    "qc.draw('mpl')   # Serve that circuit look\n"
   ]
  },
  {
   "cell_type": "code",
   "execution_count": 2,
   "id": "ae79ea80-f461-4d79-93a4-e30931e51cfa",
   "metadata": {},
   "outputs": [
    {
     "name": "stderr",
     "output_type": "stream",
     "text": [
      "  error: subprocess-exited-with-error\n",
      "  \n",
      "  Preparing metadata (pyproject.toml) did not run successfully.\n",
      "  exit code: 1\n",
      "  \n",
      "  [6 lines of output]\n",
      "  \n",
      "  Cargo, the Rust package manager, is not installed or is not on PATH.\n",
      "  This package requires Rust and Cargo to compile extensions. Install it through\n",
      "  the system's package manager or via https://rustup.rs/\n",
      "  \n",
      "  Checking for Rust toolchain....\n",
      "  [end of output]\n",
      "  \n",
      "  note: This error originates from a subprocess, and is likely not a problem with pip.\n",
      "error: metadata-generation-failed\n",
      "\n",
      "Encountered error while generating package metadata.\n",
      "\n",
      "See above for output.\n",
      "\n",
      "note: This is an issue with the package mentioned above, not pip.\n",
      "hint: See above for details.\n"
     ]
    }
   ],
   "source": [
    "!pip install --quiet qiskit qiskit-aer mitiq matplotlib cirq ply\n"
   ]
  },
  {
   "cell_type": "code",
   "execution_count": 3,
   "id": "0c534945-5485-4154-affe-8da93584bef4",
   "metadata": {},
   "outputs": [],
   "source": [
    "from qiskit import QuantumCircuit, transpile\n",
    "from qiskit_aer import Aer\n",
    "from qiskit_aer.noise import NoiseModel, depolarizing_error\n",
    "from mitiq import zne\n",
    "import matplotlib.pyplot as plt\n",
    "\n"
   ]
  },
  {
   "cell_type": "code",
   "execution_count": 4,
   "id": "49a8fdcd-687d-405c-a6d0-66b3f77e7f78",
   "metadata": {},
   "outputs": [
    {
     "data": {
      "image/png": "[encoded data removed]",
      "text/plain": [
       "<Figure size 269.064x200.667 with 1 Axes>"
      ]
     },
     "execution_count": 4,
     "metadata": {},
     "output_type": "execute_result"
    }
   ],
   "source": [
    "qc = QuantumCircuit(1, 1)\n",
    "qc.h(0)          # Hadamard - superposition realness\n",
    "qc.measure(0, 0) # Measure the drama\n",
    "qc.draw('mpl')   # Serve that circuit look\n"
   ]
  },
  {
   "cell_type": "code",
   "execution_count": 5,
   "id": "263cfff9-cc4e-4ce9-853c-fb346d3ef974",
   "metadata": {},
   "outputs": [],
   "source": [
    "!pip install --quiet qiskit qiskit-aer mitiq matplotlib ply\n"
   ]
  },
  {
   "cell_type": "code",
   "execution_count": 6,
   "id": "ebfed9ba-5415-43e5-80d5-83a5617f7305",
   "metadata": {},
   "outputs": [],
   "source": [
    "noise_model = NoiseModel()\n",
    "noise_model.add_all_qubit_quantum_error(depolarizing_error(0.2, 1), ['h'])  # 20% depolarizing noise on H gate\n"
   ]
  },
  {
   "cell_type": "code",
   "execution_count": 7,
   "id": "2bf1578c-aa8e-41c0-b483-d49ac456d124",
   "metadata": {},
   "outputs": [],
   "source": [
    "def execute_with_noise(circuit):\n",
    "    backend = Aer.get_backend('qasm_simulator')\n",
    "    tqc = transpile(circuit, backend)\n",
    "    job = backend.run(tqc, shots=1000, noise_model=noise_model)\n",
    "    counts = job.result().get_counts()\n",
    "    return counts.get('0', 0) / 1000\n"
   ]
  },
  {
   "cell_type": "code",
   "execution_count": 8,
   "id": "a7c895b8-5c07-42c3-9bd8-7b10e4e8f24b",
   "metadata": {},
   "outputs": [
    {
     "name": "stdout",
     "output_type": "stream",
     "text": [
      "Noisy result (probability of 0): 0.489\n"
     ]
    }
   ],
   "source": [
    "raw_result = execute_with_noise(qc)\n",
    "print(\"Noisy result (probability of 0):\", raw_result)\n"
   ]
  },
  {
   "cell_type": "code",
   "execution_count": 9,
   "id": "097ab1df-074a-4247-9e62-96c90f684991",
   "metadata": {},
   "outputs": [
    {
     "name": "stderr",
     "output_type": "stream",
     "text": [
      "C:\\Users\\anvit\\myenv\\Lib\\site-packages\\mitiq\\zne\\inference.py:97: UserWarning: The input circuit is very short. This may reduce the accuracy of noise scaling.\n",
      "  warnings.warn(\n"
     ]
    },
    {
     "name": "stdout",
     "output_type": "stream",
     "text": [
      "Mitigated result (probability of 0): 0.5069999999999991\n"
     ]
    }
   ],
   "source": [
    "mitigated_result = zne.execute_with_zne(qc, execute_with_noise)\n",
    "print(\"Mitigated result (probability of 0):\", mitigated_result)\n"
   ]
  },
  {
   "cell_type": "code",
   "execution_count": 10,
   "id": "92cd9f19-ff41-4a4d-a28c-f0dd4f15b66c",
   "metadata": {},
   "outputs": [
    {
     "data": {
      "image/png": "[encoded data removed]",
      "text/plain": [
       "<Figure size 640x480 with 1 Axes>"
      ]
     },
     "metadata": {},
     "output_type": "display_data"
    }
   ],
   "source": [
    "labels = [\"Noisy\", \"Mitigated\"]\n",
    "values = [raw_result, mitigated_result]\n",
    "\n",
    "plt.bar(labels, values, color=['hotpink', 'mediumslateblue'])\n",
    "plt.ylabel(\"Probability of measuring 0\")\n",
    "plt.title(\"Quantum Error Mitigation: Before & After\")\n",
    "plt.ylim(0, 1)\n",
    "plt.show()\n"
   ]
  },
  {
   "cell_type": "code",
   "execution_count": null,
   "id": "38b9ec4d-cc9b-4df4-955f-c95acd7d3db4",
   "metadata": {},
   "outputs": [],
   "source": [
    "  "
   ]
  }
 ],
 "metadata": {
  "kernelspec": {
   "display_name": "Python 3 (ipykernel)",
   "language": "python",
   "name": "python3"
  },
  "language_info": {
   "codemirror_mode": {
    "name": "ipython",
    "version": 3
   },
   "file_extension": ".py",
   "mimetype": "text/x-python",
   "name": "python",
   "nbconvert_exporter": "python",
   "pygments_lexer": "ipython3",
   "version": "3.12.4"
  }
 },
 "nbformat": 4,
 "nbformat_minor": 5
}
